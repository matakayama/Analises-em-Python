{
 "cells": [
  {
   "cell_type": "code",
   "execution_count": 1,
   "id": "cc4ff3af",
   "metadata": {},
   "outputs": [],
   "source": [
    "# importar bilbiotecas\n",
    "import pandas as pd"
   ]
  },
  {
   "cell_type": "code",
   "execution_count": 2,
   "id": "b2d9e1aa",
   "metadata": {},
   "outputs": [
    {
     "name": "stdout",
     "output_type": "stream",
     "text": [
      "['C:\\\\Users\\\\marina.takayama1\\\\Desktop\\\\PowerBI\\\\AnaliseAvaliacaoLimpeza\\\\SOURCE\\\\PLANILHA AVALIAÇÃO GERAL - LOCAL SETE.xlsx', 'C:\\\\Users\\\\marina.takayama1\\\\Desktop\\\\PowerBI\\\\AnaliseAvaliacaoLimpeza\\\\SOURCE\\\\PLANILHA AVALIAÇÃO GERAL - JJ.xlsx', 'C:\\\\Users\\\\marina.takayama1\\\\Desktop\\\\PowerBI\\\\AnaliseAvaliacaoLimpeza\\\\SOURCE\\\\PLANILHA AVALIAÇÃO GERAL - LIBEM.xlsx']\n"
     ]
    }
   ],
   "source": [
    "#Variável contendo informação de arquivo a ser lido\n",
    "source_path_list = ['C:\\\\Users\\\\marina.takayama1\\\\Desktop\\\\PowerBI\\\\AnaliseAvaliacaoLimpeza\\\\SOURCE\\\\PLANILHA AVALIAÇÃO GERAL - LOCAL SETE.xlsx',\n",
    "                    'C:\\\\Users\\\\marina.takayama1\\\\Desktop\\\\PowerBI\\\\AnaliseAvaliacaoLimpeza\\\\SOURCE\\\\PLANILHA AVALIAÇÃO GERAL - JJ.xlsx',\n",
    "                    'C:\\\\Users\\\\marina.takayama1\\\\Desktop\\\\PowerBI\\\\AnaliseAvaliacaoLimpeza\\\\SOURCE\\\\PLANILHA AVALIAÇÃO GERAL - LIBEM.xlsx']\n",
    "\n",
    "print(source_path_list)"
   ]
  },
  {
   "cell_type": "code",
   "execution_count": 3,
   "id": "7b2d2450",
   "metadata": {},
   "outputs": [
    {
     "name": "stdout",
     "output_type": "stream",
     "text": [
      "['JAN 21', 'FEV 2021', 'MAR 2021', 'ABR 2021', 'MAI 2021', 'JUN 2021', 'JUL 2021', 'AGO 2021', 'SET 2021', 'OUT 2021', 'NOV 2021', 'DEZ 2021', 'JAN 2022']\n"
     ]
    }
   ],
   "source": [
    "#Variável contendo informação das sheets a serem lidas\n",
    "sheets_list = ['JAN 21',   #pos 0  header 2\n",
    "               'FEV 2021', #pos 1  header 2\n",
    "               'MAR 2021', #pos 2  header 2\n",
    "               'ABR 2021', #pos 3  header 2\n",
    "               'MAI 2021', #pos 4  header 2\n",
    "               'JUN 2021', #pos 5  header 2\n",
    "               'JUL 2021', #pos 6  header 2\n",
    "               'AGO 2021', #pos 7  header 2\n",
    "               'SET 2021', #pos 8  header 2\n",
    "               'OUT 2021', #pos 9  header 2\n",
    "               'NOV 2021', #pos 10 header 2\n",
    "               'DEZ 2021', #pos 11 header 2\n",
    "               'JAN 2022'] #pos 12 header 2\n",
    "\n",
    "print(sheets_list)"
   ]
  },
  {
   "cell_type": "code",
   "execution_count": 4,
   "id": "465bd01b",
   "metadata": {},
   "outputs": [
    {
     "name": "stdout",
     "output_type": "stream",
     "text": [
      "[2, 2, 2, 2, 2, 2, 2, 2, 2, 2, 2, 2, 2]\n"
     ]
    }
   ],
   "source": [
    "#Variável contendo informação dos heardes de cada sheet para capturar os dados da empresa\n",
    "enterp_headers_list = [2,  #'JAN 21' pos 0  header 2\n",
    "                       2, #'FEV 2021' pos 1  header 2\n",
    "                       2, #'MAR 2021' pos 2  header 2\n",
    "                       2, #'ABR 2021' pos 3  header 2\n",
    "                       2, #'MAI 2021' pos 4  header 2\n",
    "                       2, #'JUN 2021' pos 5  header 2\n",
    "                       2, #'JUL 2021' pos 6  header 2\n",
    "                       2, #'AGO 2021' pos 7  header 2\n",
    "                       2, #'SET 2021' pos 8  header 2\n",
    "                       2, #'OUT 2021' pos 9  header 2\n",
    "                       2, #'NOV 2021' pos 10 header 2\n",
    "                       2, #'DEZ 2021' pos 11 header 2\n",
    "                       2] #'JAN 2022' pos 11 header 2\n",
    "\n",
    "print(enterp_headers_list)"
   ]
  },
  {
   "cell_type": "code",
   "execution_count": 5,
   "id": "a8b77153",
   "metadata": {},
   "outputs": [
    {
     "name": "stdout",
     "output_type": "stream",
     "text": [
      "[5, 5, 5, 5, 5, 5, 5, 5, 5, 5, 5, 5, 5]\n"
     ]
    }
   ],
   "source": [
    "#Variável contendo informação dos heardes de cada sheet para capturar os dados das avaliações\n",
    "data_headers_list = [  5,  #'JAN 21' pos 0  header 2\n",
    "                       5, #'FEV 2021' pos 1  header 2\n",
    "                       5, #'MAR 2021' pos 2  header 2\n",
    "                       5, #'ABR 2021' pos 3  header 2\n",
    "                       5, #'MAI 2021' pos 4  header 2\n",
    "                       5, #'JUN 2021' pos 5  header 2\n",
    "                       5, #'JUL 2021' pos 6  header 2\n",
    "                       5, #'AGO 2021' pos 7  header 2\n",
    "                       5, #'SET 2021' pos 8  header 2\n",
    "                       5, #'OUT 2021' pos 9  header 2\n",
    "                       5, #'NOV 2021' pos 10 header 2\n",
    "                       5, #'DEZ 2021' pos 11 header 2\n",
    "                       5] #'JAN 2022' pos 11 header 2\n",
    "\n",
    "print(data_headers_list)"
   ]
  },
  {
   "cell_type": "code",
   "execution_count": 6,
   "id": "b542460c",
   "metadata": {},
   "outputs": [],
   "source": [
    "# Função para retorno de data referência\n",
    "def retornaData(mes, ano):\n",
    "    if mes == f'JANEIRO/{ano}':\n",
    "      data = f'{ano}-01-01'\n",
    "    \n",
    "    elif mes == f'FEVEREIRO/{ano}':\n",
    "      data = f'{ano}-02-01'\n",
    "        \n",
    "    elif mes == f'MARÇO/{ano}':\n",
    "      data = f'{ano}-03-01'\n",
    "    \n",
    "    elif mes == f'ABRIL/{ano}':\n",
    "      data = f'{ano}-04-01'\n",
    "    \n",
    "    elif mes == f'MAIO/{ano}':\n",
    "      data = f'{ano}-05-01'\n",
    "    \n",
    "    elif mes == f'JUNHO/{ano}':\n",
    "      data = f'{ano}-06-01'\n",
    "    \n",
    "    elif mes == f'JULHO/{ano}':\n",
    "      data = f'{ano}-07-01'\n",
    "    \n",
    "    elif mes == f'AGOSTO/{ano}':\n",
    "      data = f'{ano}-08-01'\n",
    "    \n",
    "    elif mes == f'SETEMBRO/{ano}':\n",
    "      data = f'{ano}-09-01'\n",
    "    \n",
    "    elif mes == f'OUTUBRO/{ano}':\n",
    "      data = f'{ano}-10-01'\n",
    "    \n",
    "    elif mes == f'NOVEMBRO/{ano}':\n",
    "      data = f'{ano}-11-01'\n",
    "    \n",
    "    elif mes == f'DEZEMBRO/{ano}':\n",
    "      data = f'{ano}-12-01'\n",
    "    \n",
    "    elif mes == f'JANEIRO/{ano}':\n",
    "      data = f'{ano}-01-02'\n",
    "    \n",
    "    return data"
   ]
  },
  {
   "cell_type": "code",
   "execution_count": 7,
   "id": "cacc0c71",
   "metadata": {},
   "outputs": [
    {
     "data": {
      "text/plain": [
       "'2021-01-01'"
      ]
     },
     "execution_count": 7,
     "metadata": {},
     "output_type": "execute_result"
    }
   ],
   "source": [
    "# Chamada da função retornaData\n",
    "retornaData('JANEIRO/2021', '2021')"
   ]
  },
  {
   "cell_type": "code",
   "execution_count": 8,
   "id": "dccc2b4b",
   "metadata": {},
   "outputs": [
    {
     "data": {
      "text/plain": [
       "13"
      ]
     },
     "execution_count": 8,
     "metadata": {},
     "output_type": "execute_result"
    }
   ],
   "source": [
    "len (sheets_list)"
   ]
  },
  {
   "cell_type": "code",
   "execution_count": 11,
   "id": "8a8efa8a",
   "metadata": {},
   "outputs": [
    {
     "name": "stdout",
     "output_type": "stream",
     "text": [
      "C:\\Users\\marina.takayama1\\Desktop\\PowerBI\\AnaliseAvaliacaoLimpeza\\SOURCE\\PLANILHA AVALIAÇÃO GERAL - LOCAL SETE.xlsx\n",
      "Data de Referência: 2021-01-01\n",
      "Nome da Empresa: LOCAL SETE\n",
      "Data de Referência: 2021-02-01\n",
      "Nome da Empresa: LOCAL SETE\n",
      "Data de Referência: 2021-03-01\n",
      "Nome da Empresa: LOCAL SETE\n",
      "Data de Referência: 2021-04-01\n",
      "Nome da Empresa: LOCAL SETE\n",
      "Data de Referência: 2021-05-01\n",
      "Nome da Empresa: LOCAL SETE\n",
      "Data de Referência: 2021-06-01\n",
      "Nome da Empresa: LOCAL SETE\n",
      "Data de Referência: 2021-07-01\n",
      "Nome da Empresa: LOCAL SETE\n",
      "Data de Referência: 2021-08-01\n",
      "Nome da Empresa: LOCAL SETE\n",
      "Data de Referência: 2021-09-01\n",
      "Nome da Empresa: LOCAL SETE\n",
      "Data de Referência: 2021-10-01\n",
      "Nome da Empresa: LOCAL SETE\n",
      "Data de Referência: 2021-11-01\n",
      "Nome da Empresa: LOCAL SETE\n",
      "Data de Referência: 2021-12-01\n",
      "Nome da Empresa: LOCAL SETE\n",
      "Data de Referência: 2022-01-01\n",
      "Nome da Empresa: LOCAL SETE\n",
      "C:\\Users\\marina.takayama1\\Desktop\\PowerBI\\AnaliseAvaliacaoLimpeza\\SOURCE\\PLANILHA AVALIAÇÃO GERAL - JJ.xlsx\n",
      "Data de Referência: 2021-01-01\n",
      "Nome da Empresa: JJ SERVIÇOS\n",
      "Data de Referência: 2021-02-01\n",
      "Nome da Empresa: JJ SERVIÇOS\n",
      "Data de Referência: 2021-03-01\n",
      "Nome da Empresa: JJ SERVIÇOS\n",
      "Data de Referência: 2021-04-01\n",
      "Nome da Empresa: JJ SERVIÇOS\n",
      "Data de Referência: 2021-05-01\n",
      "Nome da Empresa: JJ SERVIÇOS\n",
      "Data de Referência: 2021-06-01\n",
      "Nome da Empresa: JJ SERVIÇOS\n",
      "Data de Referência: 2021-07-01\n",
      "Nome da Empresa: JJ SERVIÇOS\n",
      "Data de Referência: 2021-08-01\n",
      "Nome da Empresa: JJ SERVIÇOS\n",
      "Data de Referência: 2021-09-01\n",
      "Nome da Empresa: JJ SERVIÇOS\n",
      "Data de Referência: 2021-10-01\n",
      "Nome da Empresa: JJ SERVIÇOS\n",
      "Data de Referência: 2021-11-01\n",
      "Nome da Empresa: JJ SERVIÇOS\n",
      "Data de Referência: 2021-12-01\n",
      "Nome da Empresa: JJ SERVIÇOS\n",
      "Data de Referência: 2022-01-01\n",
      "Nome da Empresa: JJ SERVIÇOS\n",
      "C:\\Users\\marina.takayama1\\Desktop\\PowerBI\\AnaliseAvaliacaoLimpeza\\SOURCE\\PLANILHA AVALIAÇÃO GERAL - LIBEM.xlsx\n",
      "Data de Referência: 2021-01-01\n",
      "Nome da Empresa: LIBEM\n",
      "Data de Referência: 2021-02-01\n",
      "Nome da Empresa: LIBEM\n",
      "Data de Referência: 2021-03-01\n",
      "Nome da Empresa: LIBEM\n",
      "Data de Referência: 2021-04-01\n",
      "Nome da Empresa: LIBEM\n",
      "Data de Referência: 2021-05-01\n",
      "Nome da Empresa: LIBEM\n",
      "Data de Referência: 2021-06-01\n",
      "Nome da Empresa: LIBEM\n",
      "Data de Referência: 2021-07-01\n",
      "Nome da Empresa: LIBEM\n",
      "Data de Referência: 2021-08-01\n",
      "Nome da Empresa: LIBEM\n",
      "Data de Referência: 2021-09-01\n",
      "Nome da Empresa: LIBEM\n",
      "Data de Referência: 2021-10-01\n",
      "Nome da Empresa: LIBEM\n",
      "Data de Referência: 2021-11-01\n",
      "Nome da Empresa: LIBEM\n",
      "Data de Referência: 2021-12-01\n",
      "Nome da Empresa: LIBEM\n",
      "Data de Referência: 2022-01-01\n",
      "Nome da Empresa: LIBEM\n"
     ]
    },
    {
     "data": {
      "text/plain": [
       "2532"
      ]
     },
     "metadata": {},
     "output_type": "display_data"
    }
   ],
   "source": [
    "rows = 0\n",
    "\n",
    "# Função para criar novo DataFrame vazio com colunas definidas\n",
    "df_new = pd.DataFrame(columns=['data','empresa', 'unidade_escolar', 'cristerio', 'itens', 'equivalencia'])\n",
    "\n",
    "for m in range(len(source_path_list)):\n",
    "    source_path = source_path_list[m]\n",
    "    print(source_path)\n",
    "\n",
    "    for i in range(len(sheets_list)):\n",
    "\n",
    "        #Ler dados de nome da empresa e mês de referência\n",
    "        file_name = source_path \n",
    "        sheet_name = sheets_list[i] \n",
    "        header = enterp_headers_list[i] \n",
    "\n",
    "        df = pd.read_excel(source_path, sheet_name=sheet_name, header=header, usecols = 'A')\n",
    "        df = df.dropna()\n",
    "\n",
    "        dados = df.loc[0, 'Unnamed: 0']\n",
    "\n",
    "        x = dados.index('-')\n",
    "        empresa = dados[0:x-1]\n",
    "\n",
    "        y = (len(dados)-x)-2\n",
    "        mesano = dados[-y:]\n",
    "\n",
    "        data = retornaData(mesano, mesano[-4:])\n",
    "\n",
    "        print(f'Data de Referência: {data}')\n",
    "        print(f'Nome da Empresa: {empresa}')\n",
    "\n",
    "        # Função para leitura do arquivo Excel, selecionando as colunas utilizadas\n",
    "        df = pd.read_excel(source_path, sheet_name=sheets_list[i], header=data_headers_list[i], usecols = 'A:I')\n",
    "\n",
    "        # Função de excluir linhas vazias\n",
    "        df = df.dropna(subset = ['UNIDADE ESCOLAR'], inplace = False)\n",
    "        df.drop(df.loc[df['UNIDADE ESCOLAR']=='TOTAL '].index, inplace=True)\n",
    "\n",
    "        # Lê todas as linhas do df e transforma as colunas de critérios em linhas, com suas respectivas equivalências\n",
    "\n",
    "        for n in range(len(df)):\n",
    "            # Variável com o dado de unidade escolar\n",
    "            unidade_escolar = df.loc[n, 'UNIDADE ESCOLAR']\n",
    "\n",
    "            # Insere linha no df com dados do critério ÓTIMO    \n",
    "            criterio     = \"1.\"+df.columns[1]\n",
    "            itens        = df.loc[n, df.columns[1]]\n",
    "            equivalencia = df.loc[n, df.columns[5]]\n",
    "\n",
    "            df_new.loc[rows] = [data, empresa, unidade_escolar, criterio, itens, equivalencia]\n",
    "\n",
    "            rows = rows + 1\n",
    "\n",
    "            # Insere linha no df com dados do critério BOM    \n",
    "            criterio     = \"2.\"+df.columns[2]\n",
    "            itens        = df.loc[n, df.columns[2]]\n",
    "            equivalencia = df.loc[n, df.columns[6]]\n",
    "\n",
    "            df_new.loc[rows] = [data, empresa, unidade_escolar, criterio, itens, equivalencia]\n",
    "\n",
    "            rows = rows + 1\n",
    "\n",
    "            # Insere linha no df com dados do critério REG.    \n",
    "            criterio     = \"3.\"+df.columns[3]\n",
    "            itens        = df.loc[n, df.columns[3]]\n",
    "            equivalencia = df.loc[n, df.columns[7]]\n",
    "\n",
    "            df_new.loc[rows] = [data, empresa, unidade_escolar, criterio, itens, equivalencia]\n",
    "\n",
    "            rows = rows + 1\n",
    "\n",
    "            # Insere linha no df com dados do critério RUIM    \n",
    "            criterio     = \"4.\"+df.columns[4]\n",
    "            itens        = df.loc[n, df.columns[4]]\n",
    "            equivalencia = df.loc[n, df.columns[8]]\n",
    "\n",
    "            df_new.loc[rows] = [data, empresa, unidade_escolar, criterio, itens, equivalencia]\n",
    "\n",
    "            rows = rows + 1\n",
    "        \n",
    "# Função para substituir o \"Nan\" por 0\n",
    "df_new = df_new.fillna(0)\n",
    "\n",
    "display(len(df_new))\n"
   ]
  },
  {
   "cell_type": "code",
   "execution_count": 12,
   "id": "d25d4eb2",
   "metadata": {},
   "outputs": [
    {
     "name": "stdout",
     "output_type": "stream",
     "text": [
      "Arquivo gerado com sucesso! \n",
      "InputRows: 2532\n"
     ]
    }
   ],
   "source": [
    "files_path = 'C:\\\\Users\\\\marina.takayama1\\\\Desktop\\\\PowerBI\\\\AnaliseAvaliacaoLimpeza\\\\DATASET\\\\AnaliseAvaliacaoLimpeza.xlsx'\n",
    "df_new.to_excel(files_path)\n",
    "print(f'Arquivo gerado com sucesso! \\nInputRows: {len(df_new)}')"
   ]
  },
  {
   "cell_type": "code",
   "execution_count": null,
   "id": "a5646a17",
   "metadata": {},
   "outputs": [],
   "source": []
  }
 ],
 "metadata": {
  "kernelspec": {
   "display_name": "Python 3 (ipykernel)",
   "language": "python",
   "name": "python3"
  },
  "language_info": {
   "codemirror_mode": {
    "name": "ipython",
    "version": 3
   },
   "file_extension": ".py",
   "mimetype": "text/x-python",
   "name": "python",
   "nbconvert_exporter": "python",
   "pygments_lexer": "ipython3",
   "version": "3.10.2"
  }
 },
 "nbformat": 4,
 "nbformat_minor": 5
}
